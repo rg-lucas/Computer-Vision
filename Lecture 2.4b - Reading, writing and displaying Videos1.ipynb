{
 "cells": [
  {
   "cell_type": "markdown",
   "metadata": {},
   "source": [
    "\n",
    "\n",
    "# Reading, writing and displaying videos with OpenCV"
   ]
  },
  {
   "cell_type": "markdown",
   "metadata": {},
   "source": [
    "Let's now load a video from a local directory"
   ]
  },
  {
   "cell_type": "code",
   "execution_count": 1,
   "metadata": {},
   "outputs": [],
   "source": [
    "######################### READ VIDEO #############################\n",
    "import cv2\n",
    "# #\n",
    "frameWidth = 640\n",
    "frameHeight = 480\n",
    "cap = cv2.VideoCapture(\"images/test_video.mp4\")\n",
    "\n",
    "# Check if video file opened successfully\n",
    "if (cap.isOpened()== False): \n",
    "    print(\"Error opening video  file\")\n",
    "\n",
    "# Read until video is completed\n",
    "while(cap.isOpened()):\n",
    "    success, frame = cap.read()\n",
    "    #frame = cv2.resize(frame, (frameWidth, frameHeight))\n",
    "    if success==True:\n",
    "        # Display the resulting frame\n",
    "        cv2.imshow(\"Frame\", frame)\n",
    "        # Press Q on keyboard to  exit   \n",
    "        if cv2.waitKey(25) & 0xFF == ord('q'):\n",
    "            break\n",
    "            cv2.destroyAllWindows()\n",
    "    #Time to break the loop\n",
    "    else:\n",
    "        break\n",
    "        cv2.destroyAllWindows()\n",
    "cv2.destroyAllWindows()"
   ]
  },
  {
   "cell_type": "markdown",
   "metadata": {},
   "source": [
    "We can do the same with a connected camera"
   ]
  },
  {
   "cell_type": "code",
   "execution_count": 3,
   "metadata": {},
   "outputs": [],
   "source": [
    "import cv2\n",
    "frameWidth = 640\n",
    "frameHeight = 480\n",
    "cap = cv2.VideoCapture(1) #capture a video from your default webcam 0, you can use 1 or 2 if you have more cameras\n",
    "cap.set(3, frameWidth)#set the image width\n",
    "cap.set(4, frameHeight)#set the image height\n",
    "cap.set(10,30) # set the brightness defined as the id number 10\u000b",
    "\n",
    "while True:\n",
    "    success, img = cap.read() #read an image from the video and put it in img – success is a boolean\n",
    "    if success:\n",
    "        cv2.imshow(\"Result\", img) #show the image\n",
    "        if cv2.waitKey(1) & 0xFF == ord('q'): #if we go out a certain time or if q is pressed break the loop\n",
    "            break\n",
    "            cv2.destroyAllWindows()\n",
    "        #Time to break the loop\n",
    "    else:\n",
    "        break\n",
    "        cv2.destroyAllWindows()\n",
    "cv2.destroyAllWindows()"
   ]
  }
 ],
 "metadata": {
  "anaconda-cloud": {},
  "kernelspec": {
   "display_name": "Python 3 (ipykernel)",
   "language": "python",
   "name": "python3"
  },
  "language_info": {
   "codemirror_mode": {
    "name": "ipython",
    "version": 3
   },
   "file_extension": ".py",
   "mimetype": "text/x-python",
   "name": "python",
   "nbconvert_exporter": "python",
   "pygments_lexer": "ipython3",
   "version": "3.7.6"
  }
 },
 "nbformat": 4,
 "nbformat_minor": 1
}
