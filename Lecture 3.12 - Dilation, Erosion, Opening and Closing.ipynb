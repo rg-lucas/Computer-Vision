{
 "cells": [
  {
   "cell_type": "markdown",
   "metadata": {},
   "source": [
    "## Non-Linear filtering : Morphological Transformations : Dilation, Erosion, Opening and Closing "
   ]
  },
  {
   "cell_type": "markdown",
   "metadata": {},
   "source": [
    "## Goal\n",
    "In this lecture :\n",
    "- We will see different morphological operations like Erosion, Dilation, Opening, Closing etc.\n",
    "- We will see different functions like : cv2.erode(), cv2.dilate(), cv2.morphologyEx() etc."
   ]
  },
  {
   "attachments": {
    "Morphology_1_Tutorial_Theory_Original_Image.png": {
     "image/png": "[encoded data removed]"
    }
   },
   "cell_type": "markdown",
   "metadata": {},
   "source": [
    "## Morphological Operations\n",
    "- In short: A set of operations that process images based on shapes. Morphological operations apply a structuring element to an input image and generate an output image.\n",
    "- The most basic morphological operations are: Erosion and Dilation. They have a wide array of uses, i.e. :\n",
    "    - Removing noise\n",
    "    - Isolation of individual elements and joining disparate elements in an image.\n",
    "    - Finding of intensity bumps or holes in an image\n",
    "- We will explain dilation and erosion briefly, using the following image as an example:\n",
    "\n",
    "![Morphology_1_Tutorial_Theory_Original_Image.png](attachment:Morphology_1_Tutorial_Theory_Original_Image.png)"
   ]
  },
  {
   "attachments": {
    "Morphology_1_Tutorial_Theory_Dilation.png": {
     "image/png": "[encoded data removed]"
    }
   },
   "cell_type": "markdown",
   "metadata": {},
   "source": [
    "## Dilatation\n",
    "\n",
    "- This operations consists of convolving an image A with some kernel ( B), which can have any shape or size, usually a square or circle.\n",
    "- The kernel B has a defined anchor point, usually being the center of the kernel.\n",
    "- As the kernel B is scanned over the image, we compute the maximal pixel value overlapped by B and replace the image pixel in the anchor point position with that maximal value. As you can deduce, this maximizing operation causes bright regions within an image to \"grow\" (therefore the name dilation).\n",
    "- Take the above image as an example. Applying dilation we can get:\n",
    "![Morphology_1_Tutorial_Theory_Dilation.png](attachment:Morphology_1_Tutorial_Theory_Dilation.png)\n",
    "The bright area of the letter dilates around the black regions of the background.\n",
    "\n",
    "\n"
   ]
  },
  {
   "cell_type": "markdown",
   "metadata": {},
   "source": [
    "Here is the code."
   ]
  },
  {
   "cell_type": "code",
   "execution_count": 14,
   "metadata": {},
   "outputs": [],
   "source": [
    "import cv2 \n",
    "import numpy as np\n",
    "img = cv2.imread('images/jj.jpg',0)\n",
    "kernel = np.ones((5,5),np.uint8)\n",
    "dilation = cv2.dilate(img,kernel,iterations = 1)\n",
    "cv2.imshow('dilation',dilation)\n",
    "cv2.waitKey(0)\n",
    "cv2.destroyAllWindows()"
   ]
  },
  {
   "attachments": {
    "Morphology_1_Tutorial_Theory_Erosion.png": {
     "image/png": "[encoded data removed]"
    }
   },
   "cell_type": "markdown",
   "metadata": {},
   "source": [
    "## Erosion\n",
    "- This operation is the sister of dilation. It computes a local minimum over the area of given kernel.\n",
    "- As the kernel B is scanned over the image, we compute the minimal pixel value overlapped by B and replace the image pixel under the anchor point with that minimal value.\n",
    "- Analagously to the example for dilation, we can apply the erosion operator to the original image (shown above). You can see in the result below that the bright areas of the image get thinner, whereas the dark zones gets bigger.\n",
    "![Morphology_1_Tutorial_Theory_Erosion.png](attachment:Morphology_1_Tutorial_Theory_Erosion.png)"
   ]
  },
  {
   "cell_type": "markdown",
   "metadata": {},
   "source": [
    "Here is the code :"
   ]
  },
  {
   "cell_type": "code",
   "execution_count": 15,
   "metadata": {},
   "outputs": [],
   "source": [
    "erosion = cv2.erode(img,kernel,iterations = 1)\n",
    "cv2.imshow('erosion',erosion)\n",
    "cv2.waitKey(0)\n",
    "cv2.destroyAllWindows()"
   ]
  },
  {
   "cell_type": "markdown",
   "metadata": {},
   "source": [
    "## Opening\n",
    "\n",
    "Opening is just another name of erosion followed by dilation. It is useful in removing noise, as we explained above. Here we use the function, cv2.morphologyEx(). Try it with the following code :"
   ]
  },
  {
   "cell_type": "code",
   "execution_count": 16,
   "metadata": {},
   "outputs": [],
   "source": [
    "img = cv2.imread('images/opening.png',0)\n",
    "openingf = cv2.morphologyEx(img, cv2.MORPH_OPEN, kernel)\n",
    "cv2.imshow('Original',img)\n",
    "cv2.imshow('Opening',openingf)\n",
    "cv2.waitKey(0)\n",
    "cv2.destroyAllWindows()"
   ]
  },
  {
   "cell_type": "markdown",
   "metadata": {},
   "source": [
    "## Closing\n",
    "Closing is reverse of Opening, Dilation followed by Erosion. It is useful in closing small holes inside the foreground objects, or small black points on the object. Try it with the following code:"
   ]
  },
  {
   "cell_type": "code",
   "execution_count": 18,
   "metadata": {},
   "outputs": [],
   "source": [
    "img = cv2.imread('images/closing.png',0)\n",
    "closingf = cv2.morphologyEx(img, cv2.MORPH_CLOSE, kernel)\n",
    "cv2.imshow('Original',img)\n",
    "cv2.imshow('Closing',closingf)\n",
    "cv2.waitKey(0)\n",
    "cv2.destroyAllWindows()"
   ]
  },
  {
   "cell_type": "markdown",
   "metadata": {},
   "source": [
    "## Morphological Gradient\n",
    "It is the difference between dilation and erosion of an image.\n",
    "\n",
    "The result will look like the outline of the object.\n",
    "\n",
    "Try it with this code:"
   ]
  },
  {
   "cell_type": "code",
   "execution_count": 24,
   "metadata": {},
   "outputs": [],
   "source": [
    "img = cv2.imread('images/jj.png',0)\n",
    "gradientf = cv2.morphologyEx(img, cv2.MORPH_GRADIENT, kernel)\n",
    "cv2.imshow('Original',img)\n",
    "cv2.imshow('Gradient',gradientf)\n",
    "cv2.waitKey(0)\n",
    "cv2.destroyAllWindows()"
   ]
  },
  {
   "cell_type": "markdown",
   "metadata": {},
   "source": [
    "Here is complet example with the different transformation :"
   ]
  },
  {
   "cell_type": "code",
   "execution_count": 23,
   "metadata": {},
   "outputs": [],
   "source": [
    "import cv2\n",
    "import numpy as np\n",
    "\n",
    "#image = cv2.imread('images/Morphology_1_Tutorial_Theory_Original_Image.png', 0)\n",
    "image = cv2.imread('images/opencv_inv.png', 0)\n",
    "\n",
    "cv2.imshow('Original', image)\n",
    "cv2.waitKey(0)\n",
    "\n",
    "# Let's define our kernel size\n",
    "kernel = np.ones((5,5), np.uint8)\n",
    "\n",
    "# Now we erode\n",
    "erosion = cv2.erode(image, kernel, iterations = 1)\n",
    "cv2.imshow('Erosion', erosion)\n",
    "cv2.waitKey(0)\n",
    "\n",
    "# \n",
    "dilation = cv2.dilate(image, kernel, iterations = 1)\n",
    "cv2.imshow('Dilation', dilation)\n",
    "cv2.waitKey(0)\n",
    "\n",
    "# Opening - Good for removing noise\n",
    "opening = cv2.morphologyEx(image, cv2.MORPH_OPEN, kernel)\n",
    "cv2.imshow('Opening', opening)\n",
    "cv2.waitKey(0)\n",
    "\n",
    "# Closing - Good for removing noise\n",
    "closing = cv2.morphologyEx(image, cv2.MORPH_CLOSE, kernel)\n",
    "cv2.imshow('Closing', closing)\n",
    "cv2.waitKey(0)\n",
    "\n",
    "# Gradient - Good for finding the ouline of the object\n",
    "gradient = cv2.morphologyEx(image, cv2.MORPH_GRADIENT, kernel)\n",
    "cv2.imshow('Gradient', gradient)\n",
    "cv2.waitKey(0)\n",
    "\n",
    "cv2.destroyAllWindows()"
   ]
  }
 ],
 "metadata": {
  "kernelspec": {
   "display_name": "Python 3 (ipykernel)",
   "language": "python",
   "name": "python3"
  },
  "language_info": {
   "codemirror_mode": {
    "name": "ipython",
    "version": 3
   },
   "file_extension": ".py",
   "mimetype": "text/x-python",
   "name": "python",
   "nbconvert_exporter": "python",
   "pygments_lexer": "ipython3",
   "version": "3.7.6"
  }
 },
 "nbformat": 4,
 "nbformat_minor": 4
}
